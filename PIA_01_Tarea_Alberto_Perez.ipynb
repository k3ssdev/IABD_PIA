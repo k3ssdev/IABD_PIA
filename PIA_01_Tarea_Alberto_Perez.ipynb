{
  "nbformat": 4,
  "nbformat_minor": 0,
  "metadata": {
    "colab": {
      "provenance": [],
      "toc_visible": true,
      "authorship_tag": "ABX9TyOUHs64fDdbRmyjIVg+BdLJ",
      "include_colab_link": true
    },
    "kernelspec": {
      "name": "python3",
      "display_name": "Python 3"
    },
    "language_info": {
      "name": "python"
    }
  },
  "cells": [
    {
      "cell_type": "markdown",
      "metadata": {
        "id": "view-in-github",
        "colab_type": "text"
      },
      "source": [
        "<a href=\"https://colab.research.google.com/github/k3ssdev/IADB_PIA/blob/main/PIA_01_Tarea_Alberto_Perez.ipynb\" target=\"_parent\"><img src=\"https://colab.research.google.com/assets/colab-badge.svg\" alt=\"Open In Colab\"/></a>"
      ]
    },
    {
      "cell_type": "markdown",
      "source": [
        "# Programación de Inteligencia Artificial\n"
      ],
      "metadata": {
        "id": "Qic-VQ30clY2"
      }
    },
    {
      "cell_type": "markdown",
      "source": [
        "## Actividad 1\n",
        "\n",
        "Realizar un **Análisis Exploratorio de Datos** usando un `dataset` de ejemplo del módulo de Python `seaborn`."
      ],
      "metadata": {
        "id": "XEhefECucuO4"
      }
    },
    {
      "cell_type": "code",
      "source": [
        "# ==================\n",
        "# Actividad: Análisis Exploratorio de Datos\n",
        "# Autor: Alberto Pérez\n",
        "# Fecha: 2024-11-13\n",
        "# ==================\n"
      ],
      "metadata": {
        "id": "bD2uqqjZBdVn"
      },
      "execution_count": 61,
      "outputs": []
    },
    {
      "cell_type": "markdown",
      "source": [
        "### 1. Librerías necesarias\n",
        "\n",
        "Primero, se importan las librerías necesarias para el análisis: `pandas` para la manipulación de datos, `numpy` para operaciones matemáticas y estadísticas, `seaborn` para la creación de visualizaciones estadísticas, y `matplotlib.pyplot` (importado como `plt`) para generar gráficos de bajo nivel.\n",
        "\n",
        "Con el método `get_dataset_names` de `seaborn`, se obtiene la lista de los conjuntos de datos de ejemplo disponibles en la librería."
      ],
      "metadata": {
        "id": "rropx8OfdNoY"
      }
    },
    {
      "cell_type": "code",
      "execution_count": 2,
      "metadata": {
        "colab": {
          "base_uri": "https://localhost:8080/"
        },
        "id": "ID3UWRxAcJQy",
        "outputId": "4d5b5c10-bf4a-49ec-e067-d4791e5a0bec"
      },
      "outputs": [
        {
          "output_type": "execute_result",
          "data": {
            "text/plain": [
              "['anagrams',\n",
              " 'anscombe',\n",
              " 'attention',\n",
              " 'brain_networks',\n",
              " 'car_crashes',\n",
              " 'diamonds',\n",
              " 'dots',\n",
              " 'dowjones',\n",
              " 'exercise',\n",
              " 'flights',\n",
              " 'fmri',\n",
              " 'geyser',\n",
              " 'glue',\n",
              " 'healthexp',\n",
              " 'iris',\n",
              " 'mpg',\n",
              " 'penguins',\n",
              " 'planets',\n",
              " 'seaice',\n",
              " 'taxis',\n",
              " 'tips',\n",
              " 'titanic']"
            ]
          },
          "metadata": {},
          "execution_count": 2
        }
      ],
      "source": [
        "import pandas as pd\n",
        "import numpy as np\n",
        "import seaborn as sns\n",
        "import matplotlib.pyplot as plt\n",
        "\n",
        "# Mostrar lista de dataasets de ejemplo en seaborn\n",
        "sns.get_dataset_names()\n"
      ]
    },
    {
      "cell_type": "markdown",
      "source": [
        "### 2. Revisión de columnas del dataset\n",
        "\n",
        "Se selecciona el `dataset` de **planets** y se realiza una inspección inicial de las columnas para identificar si es necesario eliminar aquellas que no sean relevantes para el análisis. El método `load_dataset` de Seaborn ya carga el conjunto de datos como un DataFrame de pandas, por lo que no es necesario ejecutar `pd.DataFrame()` para ello.\n",
        "\n",
        "Para ello, se utiliza el atributo `columns` para mostrar las columnas o *features* del conjunto de datos."
      ],
      "metadata": {
        "id": "Exrt7Xmfd17C"
      }
    },
    {
      "cell_type": "code",
      "source": [
        "df = sns.load_dataset('planets')  # Seleccionar el dataset de planetas y cargarlo en un Dataframe\n",
        "df.columns"
      ],
      "metadata": {
        "colab": {
          "base_uri": "https://localhost:8080/"
        },
        "id": "OBweg90iftO8",
        "outputId": "214bfe63-6f44-4438-ea73-636947a206ec"
      },
      "execution_count": 3,
      "outputs": [
        {
          "output_type": "execute_result",
          "data": {
            "text/plain": [
              "Index(['method', 'number', 'orbital_period', 'mass', 'distance', 'year'], dtype='object')"
            ]
          },
          "metadata": {},
          "execution_count": 3
        }
      ]
    },
    {
      "cell_type": "markdown",
      "source": [
        "En esta primera inspección, no se observa la necesidad de eliminar ninguna columna, ya que todas parecen relevantes para el análisis."
      ],
      "metadata": {
        "id": "sB03owW0j63p"
      }
    },
    {
      "cell_type": "markdown",
      "source": [
        "### 3. Análisis estadístico inicial\n",
        "\n",
        "Es necesario hacer un análisis inicial con los métodos `info` y `describe`, además de una revisión de los datos que no sean puramente numéricos con el método `unique`.\n",
        "\n",
        "Se comienza con el método `info`, que proporciona una vista general de la estructura del conjunto de datos, incluyendo detalles importantes como el número de filas, el tipo de datos de cada columna, y cuántos valores no nulos hay en cada columna."
      ],
      "metadata": {
        "id": "ReZDoq9KkV2X"
      }
    },
    {
      "cell_type": "code",
      "source": [
        "df.info()"
      ],
      "metadata": {
        "colab": {
          "base_uri": "https://localhost:8080/"
        },
        "id": "z2rm52bRh-ZD",
        "outputId": "1190f306-6250-45a8-c158-e8a2e40440cd"
      },
      "execution_count": 4,
      "outputs": [
        {
          "output_type": "stream",
          "name": "stdout",
          "text": [
            "<class 'pandas.core.frame.DataFrame'>\n",
            "RangeIndex: 1035 entries, 0 to 1034\n",
            "Data columns (total 6 columns):\n",
            " #   Column          Non-Null Count  Dtype  \n",
            "---  ------          --------------  -----  \n",
            " 0   method          1035 non-null   object \n",
            " 1   number          1035 non-null   int64  \n",
            " 2   orbital_period  992 non-null    float64\n",
            " 3   mass            513 non-null    float64\n",
            " 4   distance        808 non-null    float64\n",
            " 5   year            1035 non-null   int64  \n",
            "dtypes: float64(3), int64(2), object(1)\n",
            "memory usage: 48.6+ KB\n"
          ]
        }
      ]
    },
    {
      "cell_type": "markdown",
      "source": [
        "La columna `method` es una cadena de texto, y se verifica que no hay valores nulos en el dataset (los cuales habría que limpiar en caso de tenerlos).\n",
        "\n",
        "Con el método `unique` aplicado a la columna del conjunto de datos, podemos obtener los valores sin duplicados para hacernos una idea más clara del contenido que tiene.\n",
        "\n",
        "Los datos de la serie `method` sugieren que es un buen candidato de `label` para un futuro modelo de predicción por método de observación."
      ],
      "metadata": {
        "id": "-Ul09uCTmABX"
      }
    },
    {
      "cell_type": "code",
      "source": [
        "df.method.unique() # Obtener los valores únicos de la columna 'method'"
      ],
      "metadata": {
        "colab": {
          "base_uri": "https://localhost:8080/"
        },
        "id": "F8idUGmtjxq4",
        "outputId": "9137398f-aa41-41bf-de49-281635f744b0"
      },
      "execution_count": 5,
      "outputs": [
        {
          "output_type": "execute_result",
          "data": {
            "text/plain": [
              "array(['Radial Velocity', 'Imaging', 'Eclipse Timing Variations',\n",
              "       'Transit', 'Astrometry', 'Transit Timing Variations',\n",
              "       'Orbital Brightness Modulation', 'Microlensing', 'Pulsar Timing',\n",
              "       'Pulsation Timing Variations'], dtype=object)"
            ]
          },
          "metadata": {},
          "execution_count": 5
        }
      ]
    },
    {
      "cell_type": "markdown",
      "source": [
        "Con el método `describe` se utiliza para generar un resumen estadístico de las columnas numéricas en un conjunto de datos.\n",
        "\n",
        "Proporciona información clave sobre la distribución de los datos, como la cantidad de valores no nulos, la media, la desviación estándar, los percentiles y los valores mínimos y máximos."
      ],
      "metadata": {
        "id": "2U5SP0ZNmwRW"
      }
    },
    {
      "cell_type": "code",
      "source": [
        "df.describe()"
      ],
      "metadata": {
        "colab": {
          "base_uri": "https://localhost:8080/",
          "height": 300
        },
        "id": "NdpLMdNbvJR7",
        "outputId": "0ae71e2c-8857-467f-a875-9d46c5ddde51"
      },
      "execution_count": 6,
      "outputs": [
        {
          "output_type": "execute_result",
          "data": {
            "text/plain": [
              "            number  orbital_period        mass     distance         year\n",
              "count  1035.000000      992.000000  513.000000   808.000000  1035.000000\n",
              "mean      1.785507     2002.917596    2.638161   264.069282  2009.070531\n",
              "std       1.240976    26014.728304    3.818617   733.116493     3.972567\n",
              "min       1.000000        0.090706    0.003600     1.350000  1989.000000\n",
              "25%       1.000000        5.442540    0.229000    32.560000  2007.000000\n",
              "50%       1.000000       39.979500    1.260000    55.250000  2010.000000\n",
              "75%       2.000000      526.005000    3.040000   178.500000  2012.000000\n",
              "max       7.000000   730000.000000   25.000000  8500.000000  2014.000000"
            ],
            "text/html": [
              "\n",
              "  <div id=\"df-179bb6ec-9f2b-4f19-9388-9a5e852e3270\" class=\"colab-df-container\">\n",
              "    <div>\n",
              "<style scoped>\n",
              "    .dataframe tbody tr th:only-of-type {\n",
              "        vertical-align: middle;\n",
              "    }\n",
              "\n",
              "    .dataframe tbody tr th {\n",
              "        vertical-align: top;\n",
              "    }\n",
              "\n",
              "    .dataframe thead th {\n",
              "        text-align: right;\n",
              "    }\n",
              "</style>\n",
              "<table border=\"1\" class=\"dataframe\">\n",
              "  <thead>\n",
              "    <tr style=\"text-align: right;\">\n",
              "      <th></th>\n",
              "      <th>number</th>\n",
              "      <th>orbital_period</th>\n",
              "      <th>mass</th>\n",
              "      <th>distance</th>\n",
              "      <th>year</th>\n",
              "    </tr>\n",
              "  </thead>\n",
              "  <tbody>\n",
              "    <tr>\n",
              "      <th>count</th>\n",
              "      <td>1035.000000</td>\n",
              "      <td>992.000000</td>\n",
              "      <td>513.000000</td>\n",
              "      <td>808.000000</td>\n",
              "      <td>1035.000000</td>\n",
              "    </tr>\n",
              "    <tr>\n",
              "      <th>mean</th>\n",
              "      <td>1.785507</td>\n",
              "      <td>2002.917596</td>\n",
              "      <td>2.638161</td>\n",
              "      <td>264.069282</td>\n",
              "      <td>2009.070531</td>\n",
              "    </tr>\n",
              "    <tr>\n",
              "      <th>std</th>\n",
              "      <td>1.240976</td>\n",
              "      <td>26014.728304</td>\n",
              "      <td>3.818617</td>\n",
              "      <td>733.116493</td>\n",
              "      <td>3.972567</td>\n",
              "    </tr>\n",
              "    <tr>\n",
              "      <th>min</th>\n",
              "      <td>1.000000</td>\n",
              "      <td>0.090706</td>\n",
              "      <td>0.003600</td>\n",
              "      <td>1.350000</td>\n",
              "      <td>1989.000000</td>\n",
              "    </tr>\n",
              "    <tr>\n",
              "      <th>25%</th>\n",
              "      <td>1.000000</td>\n",
              "      <td>5.442540</td>\n",
              "      <td>0.229000</td>\n",
              "      <td>32.560000</td>\n",
              "      <td>2007.000000</td>\n",
              "    </tr>\n",
              "    <tr>\n",
              "      <th>50%</th>\n",
              "      <td>1.000000</td>\n",
              "      <td>39.979500</td>\n",
              "      <td>1.260000</td>\n",
              "      <td>55.250000</td>\n",
              "      <td>2010.000000</td>\n",
              "    </tr>\n",
              "    <tr>\n",
              "      <th>75%</th>\n",
              "      <td>2.000000</td>\n",
              "      <td>526.005000</td>\n",
              "      <td>3.040000</td>\n",
              "      <td>178.500000</td>\n",
              "      <td>2012.000000</td>\n",
              "    </tr>\n",
              "    <tr>\n",
              "      <th>max</th>\n",
              "      <td>7.000000</td>\n",
              "      <td>730000.000000</td>\n",
              "      <td>25.000000</td>\n",
              "      <td>8500.000000</td>\n",
              "      <td>2014.000000</td>\n",
              "    </tr>\n",
              "  </tbody>\n",
              "</table>\n",
              "</div>\n",
              "    <div class=\"colab-df-buttons\">\n",
              "\n",
              "  <div class=\"colab-df-container\">\n",
              "    <button class=\"colab-df-convert\" onclick=\"convertToInteractive('df-179bb6ec-9f2b-4f19-9388-9a5e852e3270')\"\n",
              "            title=\"Convert this dataframe to an interactive table.\"\n",
              "            style=\"display:none;\">\n",
              "\n",
              "  <svg xmlns=\"http://www.w3.org/2000/svg\" height=\"24px\" viewBox=\"0 -960 960 960\">\n",
              "    <path d=\"M120-120v-720h720v720H120Zm60-500h600v-160H180v160Zm220 220h160v-160H400v160Zm0 220h160v-160H400v160ZM180-400h160v-160H180v160Zm440 0h160v-160H620v160ZM180-180h160v-160H180v160Zm440 0h160v-160H620v160Z\"/>\n",
              "  </svg>\n",
              "    </button>\n",
              "\n",
              "  <style>\n",
              "    .colab-df-container {\n",
              "      display:flex;\n",
              "      gap: 12px;\n",
              "    }\n",
              "\n",
              "    .colab-df-convert {\n",
              "      background-color: #E8F0FE;\n",
              "      border: none;\n",
              "      border-radius: 50%;\n",
              "      cursor: pointer;\n",
              "      display: none;\n",
              "      fill: #1967D2;\n",
              "      height: 32px;\n",
              "      padding: 0 0 0 0;\n",
              "      width: 32px;\n",
              "    }\n",
              "\n",
              "    .colab-df-convert:hover {\n",
              "      background-color: #E2EBFA;\n",
              "      box-shadow: 0px 1px 2px rgba(60, 64, 67, 0.3), 0px 1px 3px 1px rgba(60, 64, 67, 0.15);\n",
              "      fill: #174EA6;\n",
              "    }\n",
              "\n",
              "    .colab-df-buttons div {\n",
              "      margin-bottom: 4px;\n",
              "    }\n",
              "\n",
              "    [theme=dark] .colab-df-convert {\n",
              "      background-color: #3B4455;\n",
              "      fill: #D2E3FC;\n",
              "    }\n",
              "\n",
              "    [theme=dark] .colab-df-convert:hover {\n",
              "      background-color: #434B5C;\n",
              "      box-shadow: 0px 1px 3px 1px rgba(0, 0, 0, 0.15);\n",
              "      filter: drop-shadow(0px 1px 2px rgba(0, 0, 0, 0.3));\n",
              "      fill: #FFFFFF;\n",
              "    }\n",
              "  </style>\n",
              "\n",
              "    <script>\n",
              "      const buttonEl =\n",
              "        document.querySelector('#df-179bb6ec-9f2b-4f19-9388-9a5e852e3270 button.colab-df-convert');\n",
              "      buttonEl.style.display =\n",
              "        google.colab.kernel.accessAllowed ? 'block' : 'none';\n",
              "\n",
              "      async function convertToInteractive(key) {\n",
              "        const element = document.querySelector('#df-179bb6ec-9f2b-4f19-9388-9a5e852e3270');\n",
              "        const dataTable =\n",
              "          await google.colab.kernel.invokeFunction('convertToInteractive',\n",
              "                                                    [key], {});\n",
              "        if (!dataTable) return;\n",
              "\n",
              "        const docLinkHtml = 'Like what you see? Visit the ' +\n",
              "          '<a target=\"_blank\" href=https://colab.research.google.com/notebooks/data_table.ipynb>data table notebook</a>'\n",
              "          + ' to learn more about interactive tables.';\n",
              "        element.innerHTML = '';\n",
              "        dataTable['output_type'] = 'display_data';\n",
              "        await google.colab.output.renderOutput(dataTable, element);\n",
              "        const docLink = document.createElement('div');\n",
              "        docLink.innerHTML = docLinkHtml;\n",
              "        element.appendChild(docLink);\n",
              "      }\n",
              "    </script>\n",
              "  </div>\n",
              "\n",
              "\n",
              "<div id=\"df-d0827f73-9c77-4a68-89f6-e628c7c9c395\">\n",
              "  <button class=\"colab-df-quickchart\" onclick=\"quickchart('df-d0827f73-9c77-4a68-89f6-e628c7c9c395')\"\n",
              "            title=\"Suggest charts\"\n",
              "            style=\"display:none;\">\n",
              "\n",
              "<svg xmlns=\"http://www.w3.org/2000/svg\" height=\"24px\"viewBox=\"0 0 24 24\"\n",
              "     width=\"24px\">\n",
              "    <g>\n",
              "        <path d=\"M19 3H5c-1.1 0-2 .9-2 2v14c0 1.1.9 2 2 2h14c1.1 0 2-.9 2-2V5c0-1.1-.9-2-2-2zM9 17H7v-7h2v7zm4 0h-2V7h2v10zm4 0h-2v-4h2v4z\"/>\n",
              "    </g>\n",
              "</svg>\n",
              "  </button>\n",
              "\n",
              "<style>\n",
              "  .colab-df-quickchart {\n",
              "      --bg-color: #E8F0FE;\n",
              "      --fill-color: #1967D2;\n",
              "      --hover-bg-color: #E2EBFA;\n",
              "      --hover-fill-color: #174EA6;\n",
              "      --disabled-fill-color: #AAA;\n",
              "      --disabled-bg-color: #DDD;\n",
              "  }\n",
              "\n",
              "  [theme=dark] .colab-df-quickchart {\n",
              "      --bg-color: #3B4455;\n",
              "      --fill-color: #D2E3FC;\n",
              "      --hover-bg-color: #434B5C;\n",
              "      --hover-fill-color: #FFFFFF;\n",
              "      --disabled-bg-color: #3B4455;\n",
              "      --disabled-fill-color: #666;\n",
              "  }\n",
              "\n",
              "  .colab-df-quickchart {\n",
              "    background-color: var(--bg-color);\n",
              "    border: none;\n",
              "    border-radius: 50%;\n",
              "    cursor: pointer;\n",
              "    display: none;\n",
              "    fill: var(--fill-color);\n",
              "    height: 32px;\n",
              "    padding: 0;\n",
              "    width: 32px;\n",
              "  }\n",
              "\n",
              "  .colab-df-quickchart:hover {\n",
              "    background-color: var(--hover-bg-color);\n",
              "    box-shadow: 0 1px 2px rgba(60, 64, 67, 0.3), 0 1px 3px 1px rgba(60, 64, 67, 0.15);\n",
              "    fill: var(--button-hover-fill-color);\n",
              "  }\n",
              "\n",
              "  .colab-df-quickchart-complete:disabled,\n",
              "  .colab-df-quickchart-complete:disabled:hover {\n",
              "    background-color: var(--disabled-bg-color);\n",
              "    fill: var(--disabled-fill-color);\n",
              "    box-shadow: none;\n",
              "  }\n",
              "\n",
              "  .colab-df-spinner {\n",
              "    border: 2px solid var(--fill-color);\n",
              "    border-color: transparent;\n",
              "    border-bottom-color: var(--fill-color);\n",
              "    animation:\n",
              "      spin 1s steps(1) infinite;\n",
              "  }\n",
              "\n",
              "  @keyframes spin {\n",
              "    0% {\n",
              "      border-color: transparent;\n",
              "      border-bottom-color: var(--fill-color);\n",
              "      border-left-color: var(--fill-color);\n",
              "    }\n",
              "    20% {\n",
              "      border-color: transparent;\n",
              "      border-left-color: var(--fill-color);\n",
              "      border-top-color: var(--fill-color);\n",
              "    }\n",
              "    30% {\n",
              "      border-color: transparent;\n",
              "      border-left-color: var(--fill-color);\n",
              "      border-top-color: var(--fill-color);\n",
              "      border-right-color: var(--fill-color);\n",
              "    }\n",
              "    40% {\n",
              "      border-color: transparent;\n",
              "      border-right-color: var(--fill-color);\n",
              "      border-top-color: var(--fill-color);\n",
              "    }\n",
              "    60% {\n",
              "      border-color: transparent;\n",
              "      border-right-color: var(--fill-color);\n",
              "    }\n",
              "    80% {\n",
              "      border-color: transparent;\n",
              "      border-right-color: var(--fill-color);\n",
              "      border-bottom-color: var(--fill-color);\n",
              "    }\n",
              "    90% {\n",
              "      border-color: transparent;\n",
              "      border-bottom-color: var(--fill-color);\n",
              "    }\n",
              "  }\n",
              "</style>\n",
              "\n",
              "  <script>\n",
              "    async function quickchart(key) {\n",
              "      const quickchartButtonEl =\n",
              "        document.querySelector('#' + key + ' button');\n",
              "      quickchartButtonEl.disabled = true;  // To prevent multiple clicks.\n",
              "      quickchartButtonEl.classList.add('colab-df-spinner');\n",
              "      try {\n",
              "        const charts = await google.colab.kernel.invokeFunction(\n",
              "            'suggestCharts', [key], {});\n",
              "      } catch (error) {\n",
              "        console.error('Error during call to suggestCharts:', error);\n",
              "      }\n",
              "      quickchartButtonEl.classList.remove('colab-df-spinner');\n",
              "      quickchartButtonEl.classList.add('colab-df-quickchart-complete');\n",
              "    }\n",
              "    (() => {\n",
              "      let quickchartButtonEl =\n",
              "        document.querySelector('#df-d0827f73-9c77-4a68-89f6-e628c7c9c395 button');\n",
              "      quickchartButtonEl.style.display =\n",
              "        google.colab.kernel.accessAllowed ? 'block' : 'none';\n",
              "    })();\n",
              "  </script>\n",
              "</div>\n",
              "\n",
              "    </div>\n",
              "  </div>\n"
            ],
            "application/vnd.google.colaboratory.intrinsic+json": {
              "type": "dataframe",
              "summary": "{\n  \"name\": \"df\",\n  \"rows\": 8,\n  \"fields\": [\n    {\n      \"column\": \"number\",\n      \"properties\": {\n        \"dtype\": \"number\",\n        \"std\": 365.1743763644946,\n        \"min\": 1.0,\n        \"max\": 1035.0,\n        \"num_unique_values\": 6,\n        \"samples\": [\n          1035.0,\n          1.7855072463768116,\n          7.0\n        ],\n        \"semantic_type\": \"\",\n        \"description\": \"\"\n      }\n    },\n    {\n      \"column\": \"orbital_period\",\n      \"properties\": {\n        \"dtype\": \"number\",\n        \"std\": 256754.91290889352,\n        \"min\": 0.09070629,\n        \"max\": 730000.0,\n        \"num_unique_values\": 8,\n        \"samples\": [\n          2002.9175960947582,\n          39.9795,\n          992.0\n        ],\n        \"semantic_type\": \"\",\n        \"description\": \"\"\n      }\n    },\n    {\n      \"column\": \"mass\",\n      \"properties\": {\n        \"dtype\": \"number\",\n        \"std\": 179.74297377034367,\n        \"min\": 0.0036,\n        \"max\": 513.0,\n        \"num_unique_values\": 8,\n        \"samples\": [\n          2.6381605847953216,\n          1.26,\n          513.0\n        ],\n        \"semantic_type\": \"\",\n        \"description\": \"\"\n      }\n    },\n    {\n      \"column\": \"distance\",\n      \"properties\": {\n        \"dtype\": \"number\",\n        \"std\": 2917.261428452471,\n        \"min\": 1.35,\n        \"max\": 8500.0,\n        \"num_unique_values\": 8,\n        \"samples\": [\n          264.06928217821786,\n          55.25,\n          808.0\n        ],\n        \"semantic_type\": \"\",\n        \"description\": \"\"\n      }\n    },\n    {\n      \"column\": \"year\",\n      \"properties\": {\n        \"dtype\": \"number\",\n        \"std\": 741.6462624165245,\n        \"min\": 3.9725668572022177,\n        \"max\": 2014.0,\n        \"num_unique_values\": 8,\n        \"samples\": [\n          2009.0705314009663,\n          2010.0,\n          1035.0\n        ],\n        \"semantic_type\": \"\",\n        \"description\": \"\"\n      }\n    }\n  ]\n}"
            }
          },
          "metadata": {},
          "execution_count": 6
        }
      ]
    },
    {
      "cell_type": "markdown",
      "source": [
        "También es útil para obtener información concreta de una columna."
      ],
      "metadata": {
        "id": "RTNZJgcfvLrX"
      }
    },
    {
      "cell_type": "code",
      "source": [
        "df.method.describe()"
      ],
      "metadata": {
        "colab": {
          "base_uri": "https://localhost:8080/",
          "height": 210
        },
        "id": "Uaaxdb03jk5K",
        "outputId": "adabcf2d-3414-407f-d8ea-f0c8e5ba6966"
      },
      "execution_count": 7,
      "outputs": [
        {
          "output_type": "execute_result",
          "data": {
            "text/plain": [
              "count                1035\n",
              "unique                 10\n",
              "top       Radial Velocity\n",
              "freq                  553\n",
              "Name: method, dtype: object"
            ],
            "text/html": [
              "<div>\n",
              "<style scoped>\n",
              "    .dataframe tbody tr th:only-of-type {\n",
              "        vertical-align: middle;\n",
              "    }\n",
              "\n",
              "    .dataframe tbody tr th {\n",
              "        vertical-align: top;\n",
              "    }\n",
              "\n",
              "    .dataframe thead th {\n",
              "        text-align: right;\n",
              "    }\n",
              "</style>\n",
              "<table border=\"1\" class=\"dataframe\">\n",
              "  <thead>\n",
              "    <tr style=\"text-align: right;\">\n",
              "      <th></th>\n",
              "      <th>method</th>\n",
              "    </tr>\n",
              "  </thead>\n",
              "  <tbody>\n",
              "    <tr>\n",
              "      <th>count</th>\n",
              "      <td>1035</td>\n",
              "    </tr>\n",
              "    <tr>\n",
              "      <th>unique</th>\n",
              "      <td>10</td>\n",
              "    </tr>\n",
              "    <tr>\n",
              "      <th>top</th>\n",
              "      <td>Radial Velocity</td>\n",
              "    </tr>\n",
              "    <tr>\n",
              "      <th>freq</th>\n",
              "      <td>553</td>\n",
              "    </tr>\n",
              "  </tbody>\n",
              "</table>\n",
              "</div><br><label><b>dtype:</b> object</label>"
            ]
          },
          "metadata": {},
          "execution_count": 7
        }
      ]
    },
    {
      "cell_type": "markdown",
      "source": [
        "En este primer análisis de los datos se observa que hay 1035 valores no nulos en la columna `number`, con una media de `1.785507` en lo que parece ser el número de planetas obtenidos por método de observación `method`, lo que quiere decir que la mayoría de los métodos tienen solamente un planeta.\n",
        "\n",
        "En `orbital_period` se observa que la desviación estándar es muy alta (`26014.728304`), lo que indica una gran variabilidad en los períodos orbitales, algunos de los cuales pueden ser muy largos o muy cortos.\n",
        "\n",
        "La columna `mass` expresa la masa de los exoplanetas en unidades de la masa de Júpiter, donde 1 representa la masa de Júpiter. Aquí tambien se observa una fuerte variabilidad de los datos debido a la desiación estándar de los valores.\n",
        "\n",
        "La distancia `distance` se suele expresar en `años/luz` para las observaciones de exoplanetas y objetos estelares. Hay gran variedad de resultados entre la distancia minima y la máxima.\n",
        "\n",
        "Finalmente, la columna `year` parece representar el año de descubrimiento de los exoplanetas, con valores que van desde 1989 hasta 2014. La media es aproximadamente 2009, lo que sugiere que la mayoría de los exoplanetas fueron descubiertos cerca de la fecha máxima. Además, la desviación estándar indica que los descubrimientos se concentraron en un intervalo de pocos años.\n",
        "\n",
        "A continuación, se obtiene con `head` una muestra de los primero datos de la tabla:"
      ],
      "metadata": {
        "id": "zigyXYDfomGl"
      }
    },
    {
      "cell_type": "code",
      "source": [
        "df.head()"
      ],
      "metadata": {
        "colab": {
          "base_uri": "https://localhost:8080/",
          "height": 206
        },
        "id": "F2MCLEEXnt5B",
        "outputId": "3f48df7c-d333-4d17-bc2c-35cd399d4f4f"
      },
      "execution_count": 8,
      "outputs": [
        {
          "output_type": "execute_result",
          "data": {
            "text/plain": [
              "            method  number  orbital_period   mass  distance  year\n",
              "0  Radial Velocity       1         269.300   7.10     77.40  2006\n",
              "1  Radial Velocity       1         874.774   2.21     56.95  2008\n",
              "2  Radial Velocity       1         763.000   2.60     19.84  2011\n",
              "3  Radial Velocity       1         326.030  19.40    110.62  2007\n",
              "4  Radial Velocity       1         516.220  10.50    119.47  2009"
            ],
            "text/html": [
              "\n",
              "  <div id=\"df-03202b7b-7b09-4211-a47c-91d5d748b689\" class=\"colab-df-container\">\n",
              "    <div>\n",
              "<style scoped>\n",
              "    .dataframe tbody tr th:only-of-type {\n",
              "        vertical-align: middle;\n",
              "    }\n",
              "\n",
              "    .dataframe tbody tr th {\n",
              "        vertical-align: top;\n",
              "    }\n",
              "\n",
              "    .dataframe thead th {\n",
              "        text-align: right;\n",
              "    }\n",
              "</style>\n",
              "<table border=\"1\" class=\"dataframe\">\n",
              "  <thead>\n",
              "    <tr style=\"text-align: right;\">\n",
              "      <th></th>\n",
              "      <th>method</th>\n",
              "      <th>number</th>\n",
              "      <th>orbital_period</th>\n",
              "      <th>mass</th>\n",
              "      <th>distance</th>\n",
              "      <th>year</th>\n",
              "    </tr>\n",
              "  </thead>\n",
              "  <tbody>\n",
              "    <tr>\n",
              "      <th>0</th>\n",
              "      <td>Radial Velocity</td>\n",
              "      <td>1</td>\n",
              "      <td>269.300</td>\n",
              "      <td>7.10</td>\n",
              "      <td>77.40</td>\n",
              "      <td>2006</td>\n",
              "    </tr>\n",
              "    <tr>\n",
              "      <th>1</th>\n",
              "      <td>Radial Velocity</td>\n",
              "      <td>1</td>\n",
              "      <td>874.774</td>\n",
              "      <td>2.21</td>\n",
              "      <td>56.95</td>\n",
              "      <td>2008</td>\n",
              "    </tr>\n",
              "    <tr>\n",
              "      <th>2</th>\n",
              "      <td>Radial Velocity</td>\n",
              "      <td>1</td>\n",
              "      <td>763.000</td>\n",
              "      <td>2.60</td>\n",
              "      <td>19.84</td>\n",
              "      <td>2011</td>\n",
              "    </tr>\n",
              "    <tr>\n",
              "      <th>3</th>\n",
              "      <td>Radial Velocity</td>\n",
              "      <td>1</td>\n",
              "      <td>326.030</td>\n",
              "      <td>19.40</td>\n",
              "      <td>110.62</td>\n",
              "      <td>2007</td>\n",
              "    </tr>\n",
              "    <tr>\n",
              "      <th>4</th>\n",
              "      <td>Radial Velocity</td>\n",
              "      <td>1</td>\n",
              "      <td>516.220</td>\n",
              "      <td>10.50</td>\n",
              "      <td>119.47</td>\n",
              "      <td>2009</td>\n",
              "    </tr>\n",
              "  </tbody>\n",
              "</table>\n",
              "</div>\n",
              "    <div class=\"colab-df-buttons\">\n",
              "\n",
              "  <div class=\"colab-df-container\">\n",
              "    <button class=\"colab-df-convert\" onclick=\"convertToInteractive('df-03202b7b-7b09-4211-a47c-91d5d748b689')\"\n",
              "            title=\"Convert this dataframe to an interactive table.\"\n",
              "            style=\"display:none;\">\n",
              "\n",
              "  <svg xmlns=\"http://www.w3.org/2000/svg\" height=\"24px\" viewBox=\"0 -960 960 960\">\n",
              "    <path d=\"M120-120v-720h720v720H120Zm60-500h600v-160H180v160Zm220 220h160v-160H400v160Zm0 220h160v-160H400v160ZM180-400h160v-160H180v160Zm440 0h160v-160H620v160ZM180-180h160v-160H180v160Zm440 0h160v-160H620v160Z\"/>\n",
              "  </svg>\n",
              "    </button>\n",
              "\n",
              "  <style>\n",
              "    .colab-df-container {\n",
              "      display:flex;\n",
              "      gap: 12px;\n",
              "    }\n",
              "\n",
              "    .colab-df-convert {\n",
              "      background-color: #E8F0FE;\n",
              "      border: none;\n",
              "      border-radius: 50%;\n",
              "      cursor: pointer;\n",
              "      display: none;\n",
              "      fill: #1967D2;\n",
              "      height: 32px;\n",
              "      padding: 0 0 0 0;\n",
              "      width: 32px;\n",
              "    }\n",
              "\n",
              "    .colab-df-convert:hover {\n",
              "      background-color: #E2EBFA;\n",
              "      box-shadow: 0px 1px 2px rgba(60, 64, 67, 0.3), 0px 1px 3px 1px rgba(60, 64, 67, 0.15);\n",
              "      fill: #174EA6;\n",
              "    }\n",
              "\n",
              "    .colab-df-buttons div {\n",
              "      margin-bottom: 4px;\n",
              "    }\n",
              "\n",
              "    [theme=dark] .colab-df-convert {\n",
              "      background-color: #3B4455;\n",
              "      fill: #D2E3FC;\n",
              "    }\n",
              "\n",
              "    [theme=dark] .colab-df-convert:hover {\n",
              "      background-color: #434B5C;\n",
              "      box-shadow: 0px 1px 3px 1px rgba(0, 0, 0, 0.15);\n",
              "      filter: drop-shadow(0px 1px 2px rgba(0, 0, 0, 0.3));\n",
              "      fill: #FFFFFF;\n",
              "    }\n",
              "  </style>\n",
              "\n",
              "    <script>\n",
              "      const buttonEl =\n",
              "        document.querySelector('#df-03202b7b-7b09-4211-a47c-91d5d748b689 button.colab-df-convert');\n",
              "      buttonEl.style.display =\n",
              "        google.colab.kernel.accessAllowed ? 'block' : 'none';\n",
              "\n",
              "      async function convertToInteractive(key) {\n",
              "        const element = document.querySelector('#df-03202b7b-7b09-4211-a47c-91d5d748b689');\n",
              "        const dataTable =\n",
              "          await google.colab.kernel.invokeFunction('convertToInteractive',\n",
              "                                                    [key], {});\n",
              "        if (!dataTable) return;\n",
              "\n",
              "        const docLinkHtml = 'Like what you see? Visit the ' +\n",
              "          '<a target=\"_blank\" href=https://colab.research.google.com/notebooks/data_table.ipynb>data table notebook</a>'\n",
              "          + ' to learn more about interactive tables.';\n",
              "        element.innerHTML = '';\n",
              "        dataTable['output_type'] = 'display_data';\n",
              "        await google.colab.output.renderOutput(dataTable, element);\n",
              "        const docLink = document.createElement('div');\n",
              "        docLink.innerHTML = docLinkHtml;\n",
              "        element.appendChild(docLink);\n",
              "      }\n",
              "    </script>\n",
              "  </div>\n",
              "\n",
              "\n",
              "<div id=\"df-0fd79273-f970-47bc-9e03-0b8344d837eb\">\n",
              "  <button class=\"colab-df-quickchart\" onclick=\"quickchart('df-0fd79273-f970-47bc-9e03-0b8344d837eb')\"\n",
              "            title=\"Suggest charts\"\n",
              "            style=\"display:none;\">\n",
              "\n",
              "<svg xmlns=\"http://www.w3.org/2000/svg\" height=\"24px\"viewBox=\"0 0 24 24\"\n",
              "     width=\"24px\">\n",
              "    <g>\n",
              "        <path d=\"M19 3H5c-1.1 0-2 .9-2 2v14c0 1.1.9 2 2 2h14c1.1 0 2-.9 2-2V5c0-1.1-.9-2-2-2zM9 17H7v-7h2v7zm4 0h-2V7h2v10zm4 0h-2v-4h2v4z\"/>\n",
              "    </g>\n",
              "</svg>\n",
              "  </button>\n",
              "\n",
              "<style>\n",
              "  .colab-df-quickchart {\n",
              "      --bg-color: #E8F0FE;\n",
              "      --fill-color: #1967D2;\n",
              "      --hover-bg-color: #E2EBFA;\n",
              "      --hover-fill-color: #174EA6;\n",
              "      --disabled-fill-color: #AAA;\n",
              "      --disabled-bg-color: #DDD;\n",
              "  }\n",
              "\n",
              "  [theme=dark] .colab-df-quickchart {\n",
              "      --bg-color: #3B4455;\n",
              "      --fill-color: #D2E3FC;\n",
              "      --hover-bg-color: #434B5C;\n",
              "      --hover-fill-color: #FFFFFF;\n",
              "      --disabled-bg-color: #3B4455;\n",
              "      --disabled-fill-color: #666;\n",
              "  }\n",
              "\n",
              "  .colab-df-quickchart {\n",
              "    background-color: var(--bg-color);\n",
              "    border: none;\n",
              "    border-radius: 50%;\n",
              "    cursor: pointer;\n",
              "    display: none;\n",
              "    fill: var(--fill-color);\n",
              "    height: 32px;\n",
              "    padding: 0;\n",
              "    width: 32px;\n",
              "  }\n",
              "\n",
              "  .colab-df-quickchart:hover {\n",
              "    background-color: var(--hover-bg-color);\n",
              "    box-shadow: 0 1px 2px rgba(60, 64, 67, 0.3), 0 1px 3px 1px rgba(60, 64, 67, 0.15);\n",
              "    fill: var(--button-hover-fill-color);\n",
              "  }\n",
              "\n",
              "  .colab-df-quickchart-complete:disabled,\n",
              "  .colab-df-quickchart-complete:disabled:hover {\n",
              "    background-color: var(--disabled-bg-color);\n",
              "    fill: var(--disabled-fill-color);\n",
              "    box-shadow: none;\n",
              "  }\n",
              "\n",
              "  .colab-df-spinner {\n",
              "    border: 2px solid var(--fill-color);\n",
              "    border-color: transparent;\n",
              "    border-bottom-color: var(--fill-color);\n",
              "    animation:\n",
              "      spin 1s steps(1) infinite;\n",
              "  }\n",
              "\n",
              "  @keyframes spin {\n",
              "    0% {\n",
              "      border-color: transparent;\n",
              "      border-bottom-color: var(--fill-color);\n",
              "      border-left-color: var(--fill-color);\n",
              "    }\n",
              "    20% {\n",
              "      border-color: transparent;\n",
              "      border-left-color: var(--fill-color);\n",
              "      border-top-color: var(--fill-color);\n",
              "    }\n",
              "    30% {\n",
              "      border-color: transparent;\n",
              "      border-left-color: var(--fill-color);\n",
              "      border-top-color: var(--fill-color);\n",
              "      border-right-color: var(--fill-color);\n",
              "    }\n",
              "    40% {\n",
              "      border-color: transparent;\n",
              "      border-right-color: var(--fill-color);\n",
              "      border-top-color: var(--fill-color);\n",
              "    }\n",
              "    60% {\n",
              "      border-color: transparent;\n",
              "      border-right-color: var(--fill-color);\n",
              "    }\n",
              "    80% {\n",
              "      border-color: transparent;\n",
              "      border-right-color: var(--fill-color);\n",
              "      border-bottom-color: var(--fill-color);\n",
              "    }\n",
              "    90% {\n",
              "      border-color: transparent;\n",
              "      border-bottom-color: var(--fill-color);\n",
              "    }\n",
              "  }\n",
              "</style>\n",
              "\n",
              "  <script>\n",
              "    async function quickchart(key) {\n",
              "      const quickchartButtonEl =\n",
              "        document.querySelector('#' + key + ' button');\n",
              "      quickchartButtonEl.disabled = true;  // To prevent multiple clicks.\n",
              "      quickchartButtonEl.classList.add('colab-df-spinner');\n",
              "      try {\n",
              "        const charts = await google.colab.kernel.invokeFunction(\n",
              "            'suggestCharts', [key], {});\n",
              "      } catch (error) {\n",
              "        console.error('Error during call to suggestCharts:', error);\n",
              "      }\n",
              "      quickchartButtonEl.classList.remove('colab-df-spinner');\n",
              "      quickchartButtonEl.classList.add('colab-df-quickchart-complete');\n",
              "    }\n",
              "    (() => {\n",
              "      let quickchartButtonEl =\n",
              "        document.querySelector('#df-0fd79273-f970-47bc-9e03-0b8344d837eb button');\n",
              "      quickchartButtonEl.style.display =\n",
              "        google.colab.kernel.accessAllowed ? 'block' : 'none';\n",
              "    })();\n",
              "  </script>\n",
              "</div>\n",
              "\n",
              "    </div>\n",
              "  </div>\n"
            ],
            "application/vnd.google.colaboratory.intrinsic+json": {
              "type": "dataframe",
              "variable_name": "df",
              "summary": "{\n  \"name\": \"df\",\n  \"rows\": 1035,\n  \"fields\": [\n    {\n      \"column\": \"method\",\n      \"properties\": {\n        \"dtype\": \"category\",\n        \"num_unique_values\": 10,\n        \"samples\": [\n          \"Pulsar Timing\",\n          \"Imaging\",\n          \"Transit Timing Variations\"\n        ],\n        \"semantic_type\": \"\",\n        \"description\": \"\"\n      }\n    },\n    {\n      \"column\": \"number\",\n      \"properties\": {\n        \"dtype\": \"number\",\n        \"std\": 1,\n        \"min\": 1,\n        \"max\": 7,\n        \"num_unique_values\": 7,\n        \"samples\": [\n          1,\n          2,\n          6\n        ],\n        \"semantic_type\": \"\",\n        \"description\": \"\"\n      }\n    },\n    {\n      \"column\": \"orbital_period\",\n      \"properties\": {\n        \"dtype\": \"number\",\n        \"std\": 26014.72830406252,\n        \"min\": 0.09070629,\n        \"max\": 730000.0,\n        \"num_unique_values\": 988,\n        \"samples\": [\n          192.9,\n          152.6,\n          1314.0\n        ],\n        \"semantic_type\": \"\",\n        \"description\": \"\"\n      }\n    },\n    {\n      \"column\": \"mass\",\n      \"properties\": {\n        \"dtype\": \"number\",\n        \"std\": 3.8186166509616046,\n        \"min\": 0.0036,\n        \"max\": 25.0,\n        \"num_unique_values\": 381,\n        \"samples\": [\n          1.24,\n          7.0,\n          0.027\n        ],\n        \"semantic_type\": \"\",\n        \"description\": \"\"\n      }\n    },\n    {\n      \"column\": \"distance\",\n      \"properties\": {\n        \"dtype\": \"number\",\n        \"std\": 733.1164929404422,\n        \"min\": 1.35,\n        \"max\": 8500.0,\n        \"num_unique_values\": 552,\n        \"samples\": [\n          10.1,\n          9.04,\n          7.01\n        ],\n        \"semantic_type\": \"\",\n        \"description\": \"\"\n      }\n    },\n    {\n      \"column\": \"year\",\n      \"properties\": {\n        \"dtype\": \"number\",\n        \"std\": 3,\n        \"min\": 1989,\n        \"max\": 2014,\n        \"num_unique_values\": 23,\n        \"samples\": [\n          2003,\n          1995,\n          2006\n        ],\n        \"semantic_type\": \"\",\n        \"description\": \"\"\n      }\n    }\n  ]\n}"
            }
          },
          "metadata": {},
          "execution_count": 8
        }
      ]
    },
    {
      "cell_type": "markdown",
      "source": [],
      "metadata": {
        "id": "gAjKkNkOp-_S"
      }
    },
    {
      "cell_type": "code",
      "source": [
        "# Agrupar los datos por método de observación y contar la cantidad de planetas descubiertos por cada método.\n",
        "method_counts = df.groupby('method')['method'].count().sort_values(ascending=False)\n",
        "method_counts"
      ],
      "metadata": {
        "colab": {
          "base_uri": "https://localhost:8080/",
          "height": 429
        },
        "id": "7xl_R1y5p_i8",
        "outputId": "a298fc56-e4a7-480c-f35a-fcd6a11c4aca"
      },
      "execution_count": 17,
      "outputs": [
        {
          "output_type": "execute_result",
          "data": {
            "text/plain": [
              "method\n",
              "Radial Velocity                  553\n",
              "Transit                          397\n",
              "Imaging                           38\n",
              "Microlensing                      23\n",
              "Eclipse Timing Variations          9\n",
              "Pulsar Timing                      5\n",
              "Transit Timing Variations          4\n",
              "Orbital Brightness Modulation      3\n",
              "Astrometry                         2\n",
              "Pulsation Timing Variations        1\n",
              "Name: method, dtype: int64"
            ],
            "text/html": [
              "<div>\n",
              "<style scoped>\n",
              "    .dataframe tbody tr th:only-of-type {\n",
              "        vertical-align: middle;\n",
              "    }\n",
              "\n",
              "    .dataframe tbody tr th {\n",
              "        vertical-align: top;\n",
              "    }\n",
              "\n",
              "    .dataframe thead th {\n",
              "        text-align: right;\n",
              "    }\n",
              "</style>\n",
              "<table border=\"1\" class=\"dataframe\">\n",
              "  <thead>\n",
              "    <tr style=\"text-align: right;\">\n",
              "      <th></th>\n",
              "      <th>method</th>\n",
              "    </tr>\n",
              "    <tr>\n",
              "      <th>method</th>\n",
              "      <th></th>\n",
              "    </tr>\n",
              "  </thead>\n",
              "  <tbody>\n",
              "    <tr>\n",
              "      <th>Radial Velocity</th>\n",
              "      <td>553</td>\n",
              "    </tr>\n",
              "    <tr>\n",
              "      <th>Transit</th>\n",
              "      <td>397</td>\n",
              "    </tr>\n",
              "    <tr>\n",
              "      <th>Imaging</th>\n",
              "      <td>38</td>\n",
              "    </tr>\n",
              "    <tr>\n",
              "      <th>Microlensing</th>\n",
              "      <td>23</td>\n",
              "    </tr>\n",
              "    <tr>\n",
              "      <th>Eclipse Timing Variations</th>\n",
              "      <td>9</td>\n",
              "    </tr>\n",
              "    <tr>\n",
              "      <th>Pulsar Timing</th>\n",
              "      <td>5</td>\n",
              "    </tr>\n",
              "    <tr>\n",
              "      <th>Transit Timing Variations</th>\n",
              "      <td>4</td>\n",
              "    </tr>\n",
              "    <tr>\n",
              "      <th>Orbital Brightness Modulation</th>\n",
              "      <td>3</td>\n",
              "    </tr>\n",
              "    <tr>\n",
              "      <th>Astrometry</th>\n",
              "      <td>2</td>\n",
              "    </tr>\n",
              "    <tr>\n",
              "      <th>Pulsation Timing Variations</th>\n",
              "      <td>1</td>\n",
              "    </tr>\n",
              "  </tbody>\n",
              "</table>\n",
              "</div><br><label><b>dtype:</b> int64</label>"
            ]
          },
          "metadata": {},
          "execution_count": 17
        }
      ]
    },
    {
      "source": [
        "plt.figure(figsize=(10,6))  # Cambia el tamaño de la figura (ancho, alto)\n",
        "method_counts.plot(kind='bar',x='method',y='count') # Crear grafico de barras de recuento por metodo de observacion\n",
        "plt.show() # Mostrar el grafico"
      ],
      "cell_type": "code",
      "execution_count": 26,
      "outputs": [
        {
          "output_type": "display_data",
          "data": {
            "text/plain": [
              "<Figure size 1000x600 with 1 Axes>"
            ],
            "image/png": "[encoded data removed]"
          },
          "metadata": {}
        }
      ],
      "metadata": {
        "colab": {
          "base_uri": "https://localhost:8080/",
          "height": 735
        },
        "id": "D17Zd9vhtLM2",
        "outputId": "98b5a01a-3a4e-494d-e53c-aa7647e6560c"
      }
    },
    {
      "cell_type": "code",
      "source": [
        "# Agrupar por metodo y año\n",
        "planet_counts = df.groupby(['method', 'year'])['number'].count().reset_index()\n",
        "planet_counts.describe\n",
        "\n",
        "# Crear grafico de barras\n",
        "plt.figure(figsize=(10, 6))\n",
        "sns.barplot(x='year', y='number', hue='method', data=planet_counts)\n",
        "plt.xlabel('Año')\n",
        "plt.ylabel('Número de Planetas')\n",
        "plt.title('Planetas descubiertos por Método y Año')\n",
        "plt.xticks(rotation=45)\n",
        "plt.tight_layout()\n",
        "plt.show()\n"
      ],
      "metadata": {
        "colab": {
          "base_uri": "https://localhost:8080/",
          "height": 606
        },
        "id": "cpCXX_7F3JwL",
        "outputId": "f5fd8ebd-3953-4047-84f9-3cab0506ce9b"
      },
      "execution_count": 67,
      "outputs": [
        {
          "output_type": "display_data",
          "data": {
            "text/plain": [
              "<Figure size 1000x600 with 1 Axes>"
            ],
            "image/png": "[encoded data removed]"
          },
          "metadata": {}
        }
      ]
    },
    {
      "cell_type": "markdown",
      "source": [
        "### Análisis de datos atípicos"
      ],
      "metadata": {
        "id": "bbb3SpgdNgc9"
      }
    },
    {
      "cell_type": "markdown",
      "source": [],
      "metadata": {
        "id": "9q4jjTxrQo4D"
      }
    },
    {
      "cell_type": "code",
      "source": [
        "# Crear subdataframe con columnas numericas\n",
        "numerical_cols = df.select_dtypes(include=np.number).columns\n",
        "\n",
        "# Crear figura del grafico y ajustar tamaño\n",
        "plt.figure(figsize=(15, 10))\n",
        "\n",
        "# Recorrer las columnas y dibujar el subplot dentro de la figura\n",
        "for i, col in enumerate(numerical_cols):\n",
        "    plt.subplot(2, 5, i + 1)  # Ajusta el tamaño de cada caja\n",
        "    sns.boxplot(y=df[col])\n",
        "    plt.title(f'{col}')\n",
        "\n",
        "plt.tight_layout()\n",
        "plt.show()"
      ],
      "metadata": {
        "id": "FP1ot2mDQell",
        "outputId": "e28eae27-885c-474b-f62a-9b747b4b1479",
        "colab": {
          "base_uri": "https://localhost:8080/",
          "height": 461
        }
      },
      "execution_count": 93,
      "outputs": [
        {
          "output_type": "display_data",
          "data": {
            "text/plain": [
              "<Figure size 1500x1000 with 5 Axes>"
            ],
            "image/png": "[encoded data removed]"
          },
          "metadata": {}
        }
      ]
    }
  ]
}